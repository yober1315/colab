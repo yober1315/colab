{
  "nbformat": 4,
  "nbformat_minor": 0,
  "metadata": {
    "colab": {
      "name": "PythonxDataScience.ipynb",
      "provenance": [],
      "collapsed_sections": [],
      "authorship_tag": "ABX9TyPvoJIqTOoM028La9cjT/lB",
      "include_colab_link": true
    },
    "kernelspec": {
      "name": "python3",
      "display_name": "Python 3"
    },
    "language_info": {
      "name": "python"
    }
  },
  "cells": [
    {
      "cell_type": "markdown",
      "metadata": {
        "id": "view-in-github",
        "colab_type": "text"
      },
      "source": [
        "<a href=\"https://colab.research.google.com/github/yober1315/colab/blob/master/PythonxDataScience.ipynb\" target=\"_parent\"><img src=\"https://colab.research.google.com/assets/colab-badge.svg\" alt=\"Open In Colab\"/></a>"
      ]
    },
    {
      "cell_type": "code",
      "execution_count": null,
      "metadata": {
        "colab": {
          "base_uri": "https://localhost:8080/"
        },
        "id": "JnIBwrYd8WB_",
        "outputId": "31f01979-36f4-40d4-caad-a1fb3721ee4b"
      },
      "outputs": [
        {
          "output_type": "stream",
          "name": "stdout",
          "text": [
            "Hello\n",
            "World!\n"
          ]
        }
      ],
      "source": [
        "print(\"Hello\\nWorld!\")"
      ]
    },
    {
      "cell_type": "markdown",
      "source": [
        "TYPES\n",
        "enteros --> int\n",
        "reales --> float\n",
        "cadena de texto --> string"
      ],
      "metadata": {
        "id": "exYtbWuy9rYZ"
      }
    },
    {
      "cell_type": "code",
      "source": [
        " int(1.0)"
      ],
      "metadata": {
        "colab": {
          "base_uri": "https://localhost:8080/"
        },
        "id": "_XmnJcl497pn",
        "outputId": "6f3e1324-d226-4e2f-da53-d5fabb265897"
      },
      "execution_count": null,
      "outputs": [
        {
          "output_type": "execute_result",
          "data": {
            "text/plain": [
              "1"
            ]
          },
          "metadata": {},
          "execution_count": 2
        }
      ]
    },
    {
      "cell_type": "code",
      "source": [
        "bool(1)"
      ],
      "metadata": {
        "colab": {
          "base_uri": "https://localhost:8080/"
        },
        "id": "oGyp7c4l-jLH",
        "outputId": "52088779-0293-4cdd-eea3-ba9b99527980"
      },
      "execution_count": null,
      "outputs": [
        {
          "output_type": "execute_result",
          "data": {
            "text/plain": [
              "True"
            ]
          },
          "metadata": {},
          "execution_count": 3
        }
      ]
    },
    {
      "cell_type": "code",
      "source": [
        "Numbers = \"0123456\""
      ],
      "metadata": {
        "id": "s3ff5RIUA8Aj"
      },
      "execution_count": null,
      "outputs": []
    },
    {
      "cell_type": "code",
      "source": [
        "Numbers[::3]"
      ],
      "metadata": {
        "colab": {
          "base_uri": "https://localhost:8080/",
          "height": 35
        },
        "id": "ADEqLQPKA-PG",
        "outputId": "2d1262de-bd2b-4a9f-ff74-bb48e36db035"
      },
      "execution_count": null,
      "outputs": [
        {
          "output_type": "execute_result",
          "data": {
            "text/plain": [
              "'036'"
            ],
            "application/vnd.google.colaboratory.intrinsic+json": {
              "type": "string"
            }
          },
          "metadata": {},
          "execution_count": 5
        }
      ]
    },
    {
      "cell_type": "code",
      "source": [
        "\"0123456\".find('1')"
      ],
      "metadata": {
        "colab": {
          "base_uri": "https://localhost:8080/"
        },
        "id": "95MleVTPBWmv",
        "outputId": "6746174d-43a8-499f-c2be-4d4c4d9f9167"
      },
      "execution_count": null,
      "outputs": [
        {
          "output_type": "execute_result",
          "data": {
            "text/plain": [
              "1"
            ]
          },
          "metadata": {},
          "execution_count": 6
        }
      ]
    },
    {
      "cell_type": "code",
      "source": [
        "3 + 2 * 2"
      ],
      "metadata": {
        "colab": {
          "base_uri": "https://localhost:8080/"
        },
        "id": "mYMJ8XVUBxII",
        "outputId": "c09fee17-c8b5-456c-97d6-c9d84f9976df"
      },
      "execution_count": null,
      "outputs": [
        {
          "output_type": "execute_result",
          "data": {
            "text/plain": [
              "7"
            ]
          },
          "metadata": {},
          "execution_count": 7
        }
      ]
    },
    {
      "cell_type": "code",
      "source": [
        "name = 'Lizz'\n",
        "print(name[0:2])"
      ],
      "metadata": {
        "colab": {
          "base_uri": "https://localhost:8080/"
        },
        "id": "3ZCLTrC1B_Km",
        "outputId": "a7cf8ae4-1acf-4ce9-f4c3-bacfe17b1c5c"
      },
      "execution_count": null,
      "outputs": [
        {
          "output_type": "stream",
          "name": "stdout",
          "text": [
            "Li\n"
          ]
        }
      ]
    },
    {
      "cell_type": "code",
      "source": [
        "'1'+'2'"
      ],
      "metadata": {
        "colab": {
          "base_uri": "https://localhost:8080/",
          "height": 35
        },
        "id": "b9H5NivQDDU0",
        "outputId": "57e69830-c511-4a90-9f41-8deeb3b9b479"
      },
      "execution_count": null,
      "outputs": [
        {
          "output_type": "execute_result",
          "data": {
            "text/plain": [
              "'12'"
            ],
            "application/vnd.google.colaboratory.intrinsic+json": {
              "type": "string"
            }
          },
          "metadata": {},
          "execution_count": 10
        }
      ]
    },
    {
      "cell_type": "code",
      "source": [
        "myvar = 'hello'\n",
        "myvar.upper()"
      ],
      "metadata": {
        "colab": {
          "base_uri": "https://localhost:8080/",
          "height": 35
        },
        "id": "CO96d7qMDNqy",
        "outputId": "ed61c33b-a783-421c-e395-39b00fb217a3"
      },
      "execution_count": null,
      "outputs": [
        {
          "output_type": "execute_result",
          "data": {
            "text/plain": [
              "'HELLO'"
            ],
            "application/vnd.google.colaboratory.intrinsic+json": {
              "type": "string"
            }
          },
          "metadata": {},
          "execution_count": 11
        }
      ]
    },
    {
      "cell_type": "markdown",
      "source": [
        "## MODULO 2"
      ],
      "metadata": {
        "id": "T0n5k_Ymug3M"
      }
    },
    {
      "cell_type": "code",
      "source": [
        "#LISTAS\n",
        "lista =  [\"Python\", \"Django\", \"React\", \"Vue\"]\n",
        "#print(lista[-1])\n",
        "#añadir\n",
        "#lista.append(\"Angular)\")\n",
        "#print(lista)\n",
        "lista.insert(3,\"Nodejs\")\n",
        "print(lista)"
      ],
      "metadata": {
        "colab": {
          "base_uri": "https://localhost:8080/"
        },
        "id": "VZg7Dpbpujlj",
        "outputId": "b7aa7c2c-8aad-4b57-b2a4-5c6c907edde9"
      },
      "execution_count": null,
      "outputs": [
        {
          "output_type": "stream",
          "name": "stdout",
          "text": [
            "['Python', 'Django', 'React', 'Nodejs', 'Vue']\n"
          ]
        }
      ]
    },
    {
      "cell_type": "code",
      "source": [
        "#TUPLAS, son imutables, no modificables \n",
        "#se definen en parentesis \n",
        "tuple = (\"hard rock\", \"blues\", \"indie\", \"country\")\n",
        "print(tuple[2])\n"
      ],
      "metadata": {
        "colab": {
          "base_uri": "https://localhost:8080/"
        },
        "id": "Do2OXlc9vDzQ",
        "outputId": "ab7ae6d9-531b-45ee-d280-b384c9e28d28"
      },
      "execution_count": null,
      "outputs": [
        {
          "output_type": "stream",
          "name": "stdout",
          "text": [
            "indie\n"
          ]
        }
      ]
    },
    {
      "cell_type": "code",
      "source": [
        "#DICCIONARIO\n",
        "data = {'name': 'Agustin', 'last_name' : 'Navarro Galdon', 'edad': 24 }\n",
        "print(data)\n",
        "print(data['last_name'])\n",
        "print(f'Mi nombre es {data[\"name\"]}')\n",
        "#añadir datos\n",
        "data['city']='Valencia'\n",
        "print(data)\n",
        "#eliminar\n",
        "del data['edad']\n",
        "print(data)\n",
        "#saber el n de elementos\n",
        "print(len(data))"
      ],
      "metadata": {
        "colab": {
          "base_uri": "https://localhost:8080/"
        },
        "id": "05rEbrF2wUEE",
        "outputId": "7d477486-904c-4385-bb1f-4f7ae8b7b9d4"
      },
      "execution_count": null,
      "outputs": [
        {
          "output_type": "stream",
          "name": "stdout",
          "text": [
            "{'name': 'Agustin', 'last_name': 'Navarro Galdon', 'edad': 24}\n",
            "Navarro Galdon\n",
            "Mi nombre es Agustin\n",
            "{'name': 'Agustin', 'last_name': 'Navarro Galdon', 'edad': 24, 'city': 'Valencia'}\n",
            "{'name': 'Agustin', 'last_name': 'Navarro Galdon', 'city': 'Valencia'}\n",
            "3\n"
          ]
        }
      ]
    }
  ]
}