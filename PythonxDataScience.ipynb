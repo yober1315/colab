{
  "nbformat": 4,
  "nbformat_minor": 0,
  "metadata": {
    "colab": {
      "name": "PythonxDataScience.ipynb",
      "provenance": [],
      "collapsed_sections": [],
      "authorship_tag": "ABX9TyNik49NXkJVZZYr5By2qqS1",
      "include_colab_link": true
    },
    "kernelspec": {
      "name": "python3",
      "display_name": "Python 3"
    },
    "language_info": {
      "name": "python"
    }
  },
  "cells": [
    {
      "cell_type": "markdown",
      "metadata": {
        "id": "view-in-github",
        "colab_type": "text"
      },
      "source": [
        "<a href=\"https://colab.research.google.com/github/yober1315/colab/blob/master/PythonxDataScience.ipynb\" target=\"_parent\"><img src=\"https://colab.research.google.com/assets/colab-badge.svg\" alt=\"Open In Colab\"/></a>"
      ]
    },
    {
      "cell_type": "code",
      "execution_count": null,
      "metadata": {
        "colab": {
          "base_uri": "https://localhost:8080/"
        },
        "id": "JnIBwrYd8WB_",
        "outputId": "31f01979-36f4-40d4-caad-a1fb3721ee4b"
      },
      "outputs": [
        {
          "output_type": "stream",
          "name": "stdout",
          "text": [
            "Hello\n",
            "World!\n"
          ]
        }
      ],
      "source": [
        "print(\"Hello\\nWorld!\")"
      ]
    },
    {
      "cell_type": "markdown",
      "source": [
        "TYPES\n",
        "enteros --> int\n",
        "reales --> float\n",
        "cadena de texto --> string"
      ],
      "metadata": {
        "id": "exYtbWuy9rYZ"
      }
    },
    {
      "cell_type": "code",
      "source": [
        " int(1.0)"
      ],
      "metadata": {
        "colab": {
          "base_uri": "https://localhost:8080/"
        },
        "id": "_XmnJcl497pn",
        "outputId": "6f3e1324-d226-4e2f-da53-d5fabb265897"
      },
      "execution_count": null,
      "outputs": [
        {
          "output_type": "execute_result",
          "data": {
            "text/plain": [
              "1"
            ]
          },
          "metadata": {},
          "execution_count": 2
        }
      ]
    },
    {
      "cell_type": "code",
      "source": [
        "bool(1)"
      ],
      "metadata": {
        "colab": {
          "base_uri": "https://localhost:8080/"
        },
        "id": "oGyp7c4l-jLH",
        "outputId": "52088779-0293-4cdd-eea3-ba9b99527980"
      },
      "execution_count": null,
      "outputs": [
        {
          "output_type": "execute_result",
          "data": {
            "text/plain": [
              "True"
            ]
          },
          "metadata": {},
          "execution_count": 3
        }
      ]
    },
    {
      "cell_type": "code",
      "source": [
        "Numbers = \"0123456\""
      ],
      "metadata": {
        "id": "s3ff5RIUA8Aj"
      },
      "execution_count": null,
      "outputs": []
    },
    {
      "cell_type": "code",
      "source": [
        "Numbers[::3]"
      ],
      "metadata": {
        "colab": {
          "base_uri": "https://localhost:8080/",
          "height": 35
        },
        "id": "ADEqLQPKA-PG",
        "outputId": "2d1262de-bd2b-4a9f-ff74-bb48e36db035"
      },
      "execution_count": null,
      "outputs": [
        {
          "output_type": "execute_result",
          "data": {
            "text/plain": [
              "'036'"
            ],
            "application/vnd.google.colaboratory.intrinsic+json": {
              "type": "string"
            }
          },
          "metadata": {},
          "execution_count": 5
        }
      ]
    },
    {
      "cell_type": "code",
      "source": [
        "\"0123456\".find('1')"
      ],
      "metadata": {
        "colab": {
          "base_uri": "https://localhost:8080/"
        },
        "id": "95MleVTPBWmv",
        "outputId": "6746174d-43a8-499f-c2be-4d4c4d9f9167"
      },
      "execution_count": null,
      "outputs": [
        {
          "output_type": "execute_result",
          "data": {
            "text/plain": [
              "1"
            ]
          },
          "metadata": {},
          "execution_count": 6
        }
      ]
    },
    {
      "cell_type": "code",
      "source": [
        "3 + 2 * 2"
      ],
      "metadata": {
        "colab": {
          "base_uri": "https://localhost:8080/"
        },
        "id": "mYMJ8XVUBxII",
        "outputId": "c09fee17-c8b5-456c-97d6-c9d84f9976df"
      },
      "execution_count": null,
      "outputs": [
        {
          "output_type": "execute_result",
          "data": {
            "text/plain": [
              "7"
            ]
          },
          "metadata": {},
          "execution_count": 7
        }
      ]
    },
    {
      "cell_type": "code",
      "source": [
        "name = 'Lizz'\n",
        "print(name[0:2])"
      ],
      "metadata": {
        "colab": {
          "base_uri": "https://localhost:8080/"
        },
        "id": "3ZCLTrC1B_Km",
        "outputId": "a7cf8ae4-1acf-4ce9-f4c3-bacfe17b1c5c"
      },
      "execution_count": null,
      "outputs": [
        {
          "output_type": "stream",
          "name": "stdout",
          "text": [
            "Li\n"
          ]
        }
      ]
    },
    {
      "cell_type": "code",
      "source": [
        "'1'+'2'"
      ],
      "metadata": {
        "colab": {
          "base_uri": "https://localhost:8080/",
          "height": 35
        },
        "id": "b9H5NivQDDU0",
        "outputId": "57e69830-c511-4a90-9f41-8deeb3b9b479"
      },
      "execution_count": null,
      "outputs": [
        {
          "output_type": "execute_result",
          "data": {
            "text/plain": [
              "'12'"
            ],
            "application/vnd.google.colaboratory.intrinsic+json": {
              "type": "string"
            }
          },
          "metadata": {},
          "execution_count": 10
        }
      ]
    },
    {
      "cell_type": "code",
      "source": [
        "myvar = 'hello'\n",
        "myvar.upper()"
      ],
      "metadata": {
        "colab": {
          "base_uri": "https://localhost:8080/",
          "height": 35
        },
        "id": "CO96d7qMDNqy",
        "outputId": "ed61c33b-a783-421c-e395-39b00fb217a3"
      },
      "execution_count": null,
      "outputs": [
        {
          "output_type": "execute_result",
          "data": {
            "text/plain": [
              "'HELLO'"
            ],
            "application/vnd.google.colaboratory.intrinsic+json": {
              "type": "string"
            }
          },
          "metadata": {},
          "execution_count": 11
        }
      ]
    },
    {
      "cell_type": "markdown",
      "source": [
        "## MODULO 2"
      ],
      "metadata": {
        "id": "T0n5k_Ymug3M"
      }
    },
    {
      "cell_type": "code",
      "source": [
        "#LISTAS\n",
        "lista =  [\"Python\", \"Django\", \"React\", \"Vue\"]\n",
        "#print(lista[-1])\n",
        "#añadir\n",
        "#lista.append(\"Angular)\")\n",
        "#print(lista)\n",
        "lista.insert(3,\"Nodejs\")\n",
        "print(lista)"
      ],
      "metadata": {
        "colab": {
          "base_uri": "https://localhost:8080/"
        },
        "id": "VZg7Dpbpujlj",
        "outputId": "b7aa7c2c-8aad-4b57-b2a4-5c6c907edde9"
      },
      "execution_count": null,
      "outputs": [
        {
          "output_type": "stream",
          "name": "stdout",
          "text": [
            "['Python', 'Django', 'React', 'Nodejs', 'Vue']\n"
          ]
        }
      ]
    },
    {
      "cell_type": "code",
      "source": [
        "#TUPLAS, son imutables, no modificables \n",
        "#se definen en parentesis \n",
        "tuple = (\"hard rock\", \"blues\", \"indie\", \"country\")\n",
        "print(tuple[2])\n"
      ],
      "metadata": {
        "colab": {
          "base_uri": "https://localhost:8080/"
        },
        "id": "Do2OXlc9vDzQ",
        "outputId": "ab7ae6d9-531b-45ee-d280-b384c9e28d28"
      },
      "execution_count": null,
      "outputs": [
        {
          "output_type": "stream",
          "name": "stdout",
          "text": [
            "indie\n"
          ]
        }
      ]
    },
    {
      "cell_type": "code",
      "source": [
        "#DICCIONARIO\n",
        "data = {'name': 'Agustin', 'last_name' : 'Navarro Galdon', 'edad': 24 }\n",
        "print(data)\n",
        "print(data['last_name'])\n",
        "print(f'Mi nombre es {data[\"name\"]}')\n",
        "#añadir datos\n",
        "data['city']='Valencia'\n",
        "print(data)\n",
        "#eliminar\n",
        "del data['edad']\n",
        "print(data)\n",
        "#saber el n de elementos\n",
        "print(len(data))"
      ],
      "metadata": {
        "colab": {
          "base_uri": "https://localhost:8080/"
        },
        "id": "05rEbrF2wUEE",
        "outputId": "7d477486-904c-4385-bb1f-4f7ae8b7b9d4"
      },
      "execution_count": null,
      "outputs": [
        {
          "output_type": "stream",
          "name": "stdout",
          "text": [
            "{'name': 'Agustin', 'last_name': 'Navarro Galdon', 'edad': 24}\n",
            "Navarro Galdon\n",
            "Mi nombre es Agustin\n",
            "{'name': 'Agustin', 'last_name': 'Navarro Galdon', 'edad': 24, 'city': 'Valencia'}\n",
            "{'name': 'Agustin', 'last_name': 'Navarro Galdon', 'city': 'Valencia'}\n",
            "3\n"
          ]
        }
      ]
    },
    {
      "cell_type": "code",
      "source": [
        "#SET (CONJUNTOS)\n",
        "# a diferencia de tuplas y listas, las sets son desordenados \n",
        "# Se usa corchetes\n",
        "set1 = {\"rock\", \"pop\",\"soul\",\"hard rock\", \"rock\",\"R&B\", \"disco\"}\n",
        "print(set1)"
      ],
      "metadata": {
        "colab": {
          "base_uri": "https://localhost:8080/"
        },
        "id": "Y6BPQ5kyAucW",
        "outputId": "8b0e5a4f-67a5-4976-8086-06f1b2faeeba"
      },
      "execution_count": null,
      "outputs": [
        {
          "output_type": "stream",
          "name": "stdout",
          "text": [
            "{'hard rock', 'R&B', 'rock', 'disco', 'soul', 'pop'}\n"
          ]
        }
      ]
    },
    {
      "cell_type": "code",
      "source": [
        "#puedes convertir lista en set \n",
        "list1 = [\"hola\", \"buendia\", \"hola\", \"jueves\"]\n",
        "set(list1)"
      ],
      "metadata": {
        "colab": {
          "base_uri": "https://localhost:8080/"
        },
        "id": "kTw3XWrlA6x5",
        "outputId": "019fe329-8ddc-4736-d566-28479e0d934d"
      },
      "execution_count": null,
      "outputs": [
        {
          "output_type": "execute_result",
          "data": {
            "text/plain": [
              "{'buendia', 'hola', 'jueves'}"
            ]
          },
          "metadata": {},
          "execution_count": 2
        }
      ]
    },
    {
      "cell_type": "code",
      "source": [
        "#agregar elemntos\n",
        "set1.add(\"indie\")\n",
        "set1"
      ],
      "metadata": {
        "colab": {
          "base_uri": "https://localhost:8080/"
        },
        "id": "09VsrakpA8cj",
        "outputId": "5f6cad65-b70e-4e6c-87f1-e9002cb1b941"
      },
      "execution_count": null,
      "outputs": [
        {
          "output_type": "execute_result",
          "data": {
            "text/plain": [
              "{'R&B', 'disco', 'hard rock', 'indie', 'pop', 'rock', 'soul'}"
            ]
          },
          "metadata": {},
          "execution_count": 3
        }
      ]
    },
    {
      "cell_type": "code",
      "source": [
        "#remove\n",
        "set1.remove(\"disco\")\n",
        "set1\n"
      ],
      "metadata": {
        "colab": {
          "base_uri": "https://localhost:8080/"
        },
        "id": "XEC4AYhQBBO_",
        "outputId": "fa536507-598b-4994-8632-0b982e48b50a"
      },
      "execution_count": null,
      "outputs": [
        {
          "output_type": "execute_result",
          "data": {
            "text/plain": [
              "{'R&B', 'hard rock', 'indie', 'pop', 'rock', 'soul'}"
            ]
          },
          "metadata": {},
          "execution_count": 4
        }
      ]
    },
    {
      "cell_type": "code",
      "source": [
        "#in\n",
        "\"indie\" in set1"
      ],
      "metadata": {
        "colab": {
          "base_uri": "https://localhost:8080/"
        },
        "id": "az5_CZ6DBHAI",
        "outputId": "ac40c332-457b-4b8b-bc3c-45dbef5852d7"
      },
      "execution_count": null,
      "outputs": [
        {
          "output_type": "execute_result",
          "data": {
            "text/plain": [
              "True"
            ]
          },
          "metadata": {},
          "execution_count": 5
        }
      ]
    },
    {
      "cell_type": "code",
      "source": [
        "#Definimos\n",
        "album1 = {\"AC/DC\", \"Back in Black\", \"Thriller\"}\n",
        "album2 = {\"AC/DC\", \"Back in Black\",\"The Dark Side of the Moon\"}\n",
        "print(album1)\n",
        "print(album2)"
      ],
      "metadata": {
        "colab": {
          "base_uri": "https://localhost:8080/"
        },
        "id": "GuJ4eFRxBMLu",
        "outputId": "7e850e34-3460-4a7f-c777-ec1683342c0b"
      },
      "execution_count": null,
      "outputs": [
        {
          "output_type": "stream",
          "name": "stdout",
          "text": [
            "{'Thriller', 'Back in Black', 'AC/DC'}\n",
            "{'Back in Black', 'The Dark Side of the Moon', 'AC/DC'}\n"
          ]
        }
      ]
    },
    {
      "cell_type": "code",
      "source": [
        "#interseccion\n",
        "album3 = album1 & album2\n",
        "album3"
      ],
      "metadata": {
        "colab": {
          "base_uri": "https://localhost:8080/"
        },
        "id": "8AElyu2NBS0y",
        "outputId": "04486aa2-a053-438a-c2f1-707803972ff2"
      },
      "execution_count": null,
      "outputs": [
        {
          "output_type": "execute_result",
          "data": {
            "text/plain": [
              "{'AC/DC', 'Back in Black'}"
            ]
          },
          "metadata": {},
          "execution_count": 7
        }
      ]
    },
    {
      "cell_type": "code",
      "source": [
        "#union\n",
        "album1.union(album2)"
      ],
      "metadata": {
        "colab": {
          "base_uri": "https://localhost:8080/"
        },
        "id": "HmEiCH9kBUIc",
        "outputId": "979f4c52-38db-4f01-808d-c82131e150ae"
      },
      "execution_count": null,
      "outputs": [
        {
          "output_type": "execute_result",
          "data": {
            "text/plain": [
              "{'AC/DC', 'Back in Black', 'The Dark Side of the Moon', 'Thriller'}"
            ]
          },
          "metadata": {},
          "execution_count": 8
        }
      ]
    },
    {
      "cell_type": "code",
      "source": [
        "# ver si un set es un subset de otro\n",
        "album3.issubset(album1)"
      ],
      "metadata": {
        "colab": {
          "base_uri": "https://localhost:8080/"
        },
        "id": "GntXq4qdBqUe",
        "outputId": "fbb8d145-834e-4e40-bcd7-c1ae8292b7c6"
      },
      "execution_count": null,
      "outputs": [
        {
          "output_type": "execute_result",
          "data": {
            "text/plain": [
              "True"
            ]
          },
          "metadata": {},
          "execution_count": 9
        }
      ]
    },
    {
      "cell_type": "markdown",
      "source": [
        "## MODULO 3"
      ],
      "metadata": {
        "id": "2Vp948eRTU5d"
      }
    },
    {
      "cell_type": "code",
      "source": [
        "#CONDITIONS AND BRANCHING"
      ],
      "metadata": {
        "id": "kot4v25fTXE_"
      },
      "execution_count": null,
      "outputs": []
    },
    {
      "cell_type": "code",
      "source": [
        "a=6\n",
        "a==7"
      ],
      "metadata": {
        "colab": {
          "base_uri": "https://localhost:8080/"
        },
        "id": "0W9ZcnTkTc5T",
        "outputId": "0f52e200-a762-44fc-b6e5-af18ff86e27a"
      },
      "execution_count": 2,
      "outputs": [
        {
          "output_type": "execute_result",
          "data": {
            "text/plain": [
              "False"
            ]
          },
          "metadata": {},
          "execution_count": 2
        }
      ]
    },
    {
      "cell_type": "code",
      "source": [
        "i=6\n",
        "i>=5"
      ],
      "metadata": {
        "colab": {
          "base_uri": "https://localhost:8080/"
        },
        "id": "IRVmMVd4Tk4Z",
        "outputId": "7453a3c7-9f66-470d-80c4-61dbdba06d58"
      },
      "execution_count": 9,
      "outputs": [
        {
          "output_type": "execute_result",
          "data": {
            "text/plain": [
              "True"
            ]
          },
          "metadata": {},
          "execution_count": 9
        }
      ]
    },
    {
      "cell_type": "code",
      "source": [
        "j=2\n",
        "#j>=5\n",
        "j!=2"
      ],
      "metadata": {
        "colab": {
          "base_uri": "https://localhost:8080/"
        },
        "id": "pKrjAoIFUNEn",
        "outputId": "7873522e-fbf4-43fa-866c-be4b32536248"
      },
      "execution_count": 13,
      "outputs": [
        {
          "output_type": "execute_result",
          "data": {
            "text/plain": [
              "False"
            ]
          },
          "metadata": {},
          "execution_count": 13
        }
      ]
    },
    {
      "cell_type": "code",
      "source": [
        "\"AC/DC\" == \"Michael Jackson\""
      ],
      "metadata": {
        "colab": {
          "base_uri": "https://localhost:8080/"
        },
        "id": "U4-25vv3UdF9",
        "outputId": "a659b370-28b8-4a41-b575-f04af2a97424"
      },
      "execution_count": 14,
      "outputs": [
        {
          "output_type": "execute_result",
          "data": {
            "text/plain": [
              "False"
            ]
          },
          "metadata": {},
          "execution_count": 14
        }
      ]
    },
    {
      "cell_type": "code",
      "source": [
        "\"AC/DC\" != \"Michael Jackson\""
      ],
      "metadata": {
        "colab": {
          "base_uri": "https://localhost:8080/"
        },
        "id": "KV73WiwmUxQX",
        "outputId": "c75b3880-78e8-4e11-ff79-b8d50ef38b52"
      },
      "execution_count": 15,
      "outputs": [
        {
          "output_type": "execute_result",
          "data": {
            "text/plain": [
              "True"
            ]
          },
          "metadata": {},
          "execution_count": 15
        }
      ]
    },
    {
      "cell_type": "code",
      "source": [
        "#BRANCHING\n",
        "age=19\n",
        "if (age>18):\n",
        "  print(\"you can enter\")\n",
        "print(\"move on\")\n"
      ],
      "metadata": {
        "colab": {
          "base_uri": "https://localhost:8080/"
        },
        "id": "3lLgEE1vU4Xv",
        "outputId": "4a9f6de5-3f49-4b2f-9dc2-1e706968e50a"
      },
      "execution_count": 22,
      "outputs": [
        {
          "output_type": "stream",
          "name": "stdout",
          "text": [
            "you can enter\n",
            "move on\n"
          ]
        }
      ]
    },
    {
      "cell_type": "code",
      "source": [
        "# else statement\n",
        "edad=17\n",
        "if (edad>18):\n",
        "  print(\"you can enter\")\n",
        "else:\n",
        "  print(\"go see Meat Loaf\")\n",
        "  \n",
        "print(\"move on\")"
      ],
      "metadata": {
        "colab": {
          "base_uri": "https://localhost:8080/"
        },
        "id": "AQ5twG57U6HO",
        "outputId": "cd9c7a95-0d03-4322-c6a7-56fda8c8516a"
      },
      "execution_count": 26,
      "outputs": [
        {
          "output_type": "stream",
          "name": "stdout",
          "text": [
            "go see Meat Loaf\n",
            "move on\n"
          ]
        }
      ]
    },
    {
      "cell_type": "code",
      "source": [
        "# else if (elif)\n",
        "ano=17\n",
        "if (ano>18):\n",
        "  print(\"you can enter\")\n",
        "elseif(ano==18):\n",
        "  \n",
        "  print(\"goo see Pink Floyd\")\n",
        "else:\n",
        "\n",
        "  print(\"go see Meat Loaf\")\n",
        "  \n",
        "print(\"move on\")"
      ],
      "metadata": {
        "colab": {
          "base_uri": "https://localhost:8080/",
          "height": 130
        },
        "id": "NenquGpLWu0X",
        "outputId": "bdf7f872-a0b0-4324-eeb9-1f946fa12c41"
      },
      "execution_count": 27,
      "outputs": [
        {
          "output_type": "error",
          "ename": "SyntaxError",
          "evalue": "ignored",
          "traceback": [
            "\u001b[0;36m  File \u001b[0;32m\"<ipython-input-27-4df718913c43>\"\u001b[0;36m, line \u001b[0;32m5\u001b[0m\n\u001b[0;31m    elseif(ano==18):\u001b[0m\n\u001b[0m                    ^\u001b[0m\n\u001b[0;31mSyntaxError\u001b[0m\u001b[0;31m:\u001b[0m invalid syntax\n"
          ]
        }
      ]
    },
    {
      "cell_type": "code",
      "source": [
        "#LOGIC OPERATORS\n",
        "not(True)"
      ],
      "metadata": {
        "colab": {
          "base_uri": "https://localhost:8080/"
        },
        "id": "U-bxGbylXrLm",
        "outputId": "7f9407ef-eddf-4e77-d2a3-4224a8a9fa65"
      },
      "execution_count": 30,
      "outputs": [
        {
          "output_type": "execute_result",
          "data": {
            "text/plain": [
              "False"
            ]
          },
          "metadata": {},
          "execution_count": 30
        }
      ]
    },
    {
      "cell_type": "code",
      "source": [
        "#OR\n",
        "album_year = 1990\n",
        "if(album_year < 1980) or (album_year>1989):\n",
        "  print(\"The album was made in the 70´s or 90´s\")\n",
        "\n",
        "else:\n",
        "  print(\"The album was made in the 1980´s\")"
      ],
      "metadata": {
        "colab": {
          "base_uri": "https://localhost:8080/"
        },
        "id": "ZzNJfmX6Yoxv",
        "outputId": "c06e62e1-59cb-4d47-fff8-988756a4c424"
      },
      "execution_count": 31,
      "outputs": [
        {
          "output_type": "stream",
          "name": "stdout",
          "text": [
            "The album was made in the 70´s or 90´s\n"
          ]
        }
      ]
    },
    {
      "cell_type": "code",
      "source": [
        "#AND\n",
        "album_del_ano =1983\n",
        "if (album_del_ano >1979) and (album_del_ano<1990):\n",
        "  print(\"This album was made in the 80´s\")"
      ],
      "metadata": {
        "colab": {
          "base_uri": "https://localhost:8080/"
        },
        "id": "11SKv0qlZDQX",
        "outputId": "2ca0da08-7a1f-4ff1-91f6-e554f180d1a9"
      },
      "execution_count": 32,
      "outputs": [
        {
          "output_type": "stream",
          "name": "stdout",
          "text": [
            "This album was made in the 80´s\n"
          ]
        }
      ]
    },
    {
      "cell_type": "code",
      "source": [
        "#LOOPS\n",
        "#FOR \n",
        "squares=[\"red\",\"yellow\",\"green\",\"purple\",\"blue\"]\n",
        "for i in range (0,5):\n",
        "  squares[i]=\"white\"\n",
        "\n",
        "print(squares)"
      ],
      "metadata": {
        "id": "0DDCAYKAbCzZ",
        "outputId": "fb702533-d67b-4aec-c14e-2b5b847c4b50",
        "colab": {
          "base_uri": "https://localhost:8080/"
        }
      },
      "execution_count": 35,
      "outputs": [
        {
          "output_type": "stream",
          "name": "stdout",
          "text": [
            "['white', 'white', 'white', 'white', 'white']\n"
          ]
        }
      ]
    },
    {
      "cell_type": "code",
      "source": [
        "# loops en una tupla\n",
        "squares=[\"red\",\"yellow\",\"green\"]\n",
        "for i, square in enumerate(squares):\n",
        "  square\n",
        "  i\n",
        "print(squares)"
      ],
      "metadata": {
        "id": "KPaBvMizcYRN",
        "outputId": "47b0f5f8-4ee8-4438-e046-ff82f22685e4",
        "colab": {
          "base_uri": "https://localhost:8080/"
        }
      },
      "execution_count": 38,
      "outputs": [
        {
          "output_type": "stream",
          "name": "stdout",
          "text": [
            "['red', 'yellow', 'green']\n"
          ]
        }
      ]
    },
    {
      "cell_type": "code",
      "source": [
        "# WHILE\n",
        "# a diferencia de FOR , WHILE se ejecuta solo si cumple una condición\n",
        "squares=[\"orange\",\" orange\", \"purple\", \"blue\"]\n",
        "Newsquares=[]\n",
        "i=0\n",
        "while(squares[i]==\"orange\"):\n",
        "  Newsquares.append(squares[i])\n",
        "\n",
        "  i=i+1\n",
        "\n",
        "print(Newsquares)"
      ],
      "metadata": {
        "id": "pWfYsjjddgwa",
        "outputId": "6b5fc07d-e2cf-4380-80a6-4278e71fc793",
        "colab": {
          "base_uri": "https://localhost:8080/"
        }
      },
      "execution_count": 42,
      "outputs": [
        {
          "output_type": "stream",
          "name": "stdout",
          "text": [
            "['orange']\n"
          ]
        }
      ]
    },
    {
      "cell_type": "code",
      "source": [],
      "metadata": {
        "id": "j53YfdaSdjLg"
      },
      "execution_count": null,
      "outputs": []
    }
  ]
}